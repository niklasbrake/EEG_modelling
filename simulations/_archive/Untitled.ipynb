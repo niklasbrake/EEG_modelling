{
 "cells": [
  {
   "cell_type": "code",
   "execution_count": 2,
   "id": "74592453-4078-4604-a2a7-8a0fa03a9032",
   "metadata": {},
   "outputs": [
    {
     "data": {
      "text/plain": [
       "1.0"
      ]
     },
     "execution_count": 2,
     "metadata": {},
     "output_type": "execute_result"
    }
   ],
   "source": [
    "from neuron import h, crxd as rxd\n",
    "from neuron.crxd import v\n",
    "from neuron.crxd.rxdmath import vtrap, exp, log\n",
    "from math import pi\n",
    "from matplotlib import pyplot\n",
    "h.load_file('stdrun.hoc')"
   ]
  },
  {
   "cell_type": "code",
   "execution_count": 4,
   "id": "ca37b810-59d5-4ad9-9a70-a8c56a814e99",
   "metadata": {},
   "outputs": [],
   "source": [
    "# parameters\n",
    "h.celsius = 6.3 \n",
    "e = 1.60217662e-19\n",
    "scale = 1e-14/e\n",
    "gnabar = 0.12*scale     # molecules/um2 ms mV \n",
    "gkbar = 0.036*scale\n",
    "gl = 0.0003*scale\n",
    "el = -54.3\n",
    "q10 = 3.0**((h.celsius - 6.3)/10.0)\n",
    "\n",
    "# sodium activation 'm'\n",
    "alpha = 0.1 * vtrap(-(v + 40.0), 10)\n",
    "beta = 4.0 * exp(-(v + 65)/18.0)\n",
    "mtau = 1.0/(q10 * (alpha + beta))\n",
    "minf = alpha/(alpha + beta)\n",
    "\n",
    "# sodium inactivation 'h'\n",
    "alpha = 0.07 * exp(-(v + 65.0)/20.0)\n",
    "beta = 1.0/(exp(-(v + 35.0)/10.0) + 1.0)\n",
    "htau = 1.0/(q10 * (alpha + beta))\n",
    "hinf = alpha/(alpha + beta)\n",
    "\n",
    "# potassium activation 'n'\n",
    "alpha = 0.01 * vtrap(-(v + 55.0), 10.0)\n",
    "beta = 0.125 * exp(-(v + 65.0)/80.0)\n",
    "ntau = 1.0/(q10 * (alpha + beta))\n",
    "ninf = alpha/(alpha + beta)"
   ]
  },
  {
   "cell_type": "code",
   "execution_count": 6,
   "id": "acefbd9c-3ae4-4fc8-b2cc-a036904c5b6d",
   "metadata": {},
   "outputs": [],
   "source": [
    "somaA = h.Section('somaA')\n",
    "somaA.pt3dclear()\n",
    "somaA.pt3dadd(-90,0,0,30)\n",
    "somaA.pt3dadd(-60,0,0,30)\n",
    "somaA.nseg = 11"
   ]
  },
  {
   "cell_type": "code",
   "execution_count": 8,
   "id": "60488a1f-b043-436b-88cb-4493ff691e35",
   "metadata": {},
   "outputs": [
    {
     "ename": "RxDException",
     "evalue": "Species \"na\" previously defined on a region Region(..., nrn_region='i', geometry=<neuron.rxd.geometry.RxDGeometry object at 0x000001E921C40EB0>, dx=0.25, name='cyt') that overlaps with regions: [Region(..., nrn_region='i', geometry=<neuron.rxd.geometry.RxDGeometry object at 0x000001E921C40EB0>, dx=0.25, name='cyt'), Region(..., nrn_region=None, geometry=<neuron.rxd.geometry.RxDGeometry object at 0x000001E921C40F40>, dx=0.25, name='cell_mem')]",
     "output_type": "error",
     "traceback": [
      "\u001b[1;31m---------------------------------------------------------------------------\u001b[0m",
      "\u001b[1;31mRxDException\u001b[0m                              Traceback (most recent call last)",
      "Input \u001b[1;32mIn [8]\u001b[0m, in \u001b[0;36m<cell line: 14>\u001b[1;34m()\u001b[0m\n\u001b[0;32m      9\u001b[0m ecs \u001b[38;5;241m=\u001b[39m rxd\u001b[38;5;241m.\u001b[39mExtracellular(\u001b[38;5;241m-\u001b[39m\u001b[38;5;241m100\u001b[39m, \u001b[38;5;241m-\u001b[39m\u001b[38;5;241m100\u001b[39m, \u001b[38;5;241m-\u001b[39m\u001b[38;5;241m100\u001b[39m, \u001b[38;5;241m100\u001b[39m, \u001b[38;5;241m100\u001b[39m, \u001b[38;5;241m100\u001b[39m, dx\u001b[38;5;241m=\u001b[39m\u001b[38;5;241m33\u001b[39m)\n\u001b[0;32m     11\u001b[0m \u001b[38;5;66;03m# Who?  ions & gates\u001b[39;00m\n\u001b[0;32m     12\u001b[0m \n\u001b[0;32m     13\u001b[0m \u001b[38;5;66;03m# intracellular sodium & potassium\u001b[39;00m\n\u001b[1;32m---> 14\u001b[0m na \u001b[38;5;241m=\u001b[39m \u001b[43mrxd\u001b[49m\u001b[38;5;241;43m.\u001b[39;49m\u001b[43mSpecies\u001b[49m\u001b[43m(\u001b[49m\u001b[43m[\u001b[49m\u001b[43mcyt\u001b[49m\u001b[43m,\u001b[49m\u001b[43m \u001b[49m\u001b[43mmem\u001b[49m\u001b[43m]\u001b[49m\u001b[43m,\u001b[49m\u001b[43m \u001b[49m\u001b[43mname\u001b[49m\u001b[38;5;241;43m=\u001b[39;49m\u001b[38;5;124;43m'\u001b[39;49m\u001b[38;5;124;43mna\u001b[39;49m\u001b[38;5;124;43m'\u001b[39;49m\u001b[43m,\u001b[49m\u001b[43m \u001b[49m\u001b[43md\u001b[49m\u001b[38;5;241;43m=\u001b[39;49m\u001b[38;5;241;43m1\u001b[39;49m\u001b[43m,\u001b[49m\u001b[43m \u001b[49m\u001b[43mcharge\u001b[49m\u001b[38;5;241;43m=\u001b[39;49m\u001b[38;5;241;43m1\u001b[39;49m\u001b[43m,\u001b[49m\u001b[43m \u001b[49m\u001b[43minitial\u001b[49m\u001b[38;5;241;43m=\u001b[39;49m\u001b[38;5;241;43m10\u001b[39;49m\u001b[43m)\u001b[49m\n\u001b[0;32m     15\u001b[0m k \u001b[38;5;241m=\u001b[39m rxd\u001b[38;5;241m.\u001b[39mSpecies([cyt, mem], name\u001b[38;5;241m=\u001b[39m\u001b[38;5;124m'\u001b[39m\u001b[38;5;124mk\u001b[39m\u001b[38;5;124m'\u001b[39m, d\u001b[38;5;241m=\u001b[39m\u001b[38;5;241m1\u001b[39m, charge\u001b[38;5;241m=\u001b[39m\u001b[38;5;241m1\u001b[39m, initial\u001b[38;5;241m=\u001b[39m\u001b[38;5;241m54.4\u001b[39m)\n\u001b[0;32m     17\u001b[0m \u001b[38;5;66;03m# extracellular parameters provide a constant concentration for the Nernst potential and reactions.\u001b[39;00m\n",
      "File \u001b[1;32mc:\\nrn\\lib\\python\\neuron\\rxd\\species.py:1271\u001b[0m, in \u001b[0;36mSpecies.__init__\u001b[1;34m(self, regions, d, name, charge, initial, atolscale, ecs_boundary_conditions, represents)\u001b[0m\n\u001b[0;32m   1269\u001b[0m \u001b[38;5;66;03m# initialize self if the rest of rxd is already initialized\u001b[39;00m\n\u001b[0;32m   1270\u001b[0m \u001b[38;5;28;01mif\u001b[39;00m initializer\u001b[38;5;241m.\u001b[39mis_initialized():\n\u001b[1;32m-> 1271\u001b[0m     \u001b[38;5;28;43mself\u001b[39;49m\u001b[38;5;241;43m.\u001b[39;49m\u001b[43m_do_init\u001b[49m\u001b[43m(\u001b[49m\u001b[43m)\u001b[49m\n\u001b[0;32m   1272\u001b[0m     rxd\u001b[38;5;241m.\u001b[39m_update_node_data(\u001b[38;5;28;01mTrue\u001b[39;00m, \u001b[38;5;28;01mTrue\u001b[39;00m)\n",
      "File \u001b[1;32mc:\\nrn\\lib\\python\\neuron\\rxd\\species.py:1276\u001b[0m, in \u001b[0;36mSpecies._do_init\u001b[1;34m(self)\u001b[0m\n\u001b[0;32m   1275\u001b[0m \u001b[38;5;28;01mdef\u001b[39;00m \u001b[38;5;21m_do_init\u001b[39m(\u001b[38;5;28mself\u001b[39m):\n\u001b[1;32m-> 1276\u001b[0m     \u001b[38;5;28;43mself\u001b[39;49m\u001b[38;5;241;43m.\u001b[39;49m\u001b[43m_do_init1\u001b[49m\u001b[43m(\u001b[49m\u001b[43m)\u001b[49m\n\u001b[0;32m   1277\u001b[0m     \u001b[38;5;28mself\u001b[39m\u001b[38;5;241m.\u001b[39m_do_init2()\n\u001b[0;32m   1278\u001b[0m     \u001b[38;5;28mself\u001b[39m\u001b[38;5;241m.\u001b[39m_do_init3()\n",
      "File \u001b[1;32mc:\\nrn\\lib\\python\\neuron\\rxd\\species.py:1323\u001b[0m, in \u001b[0;36mSpecies._do_init1\u001b[1;34m(self)\u001b[0m\n\u001b[0;32m   1318\u001b[0m             \u001b[38;5;28;01mif\u001b[39;00m \u001b[38;5;28mhasattr\u001b[39m(r,\u001b[38;5;124m'\u001b[39m\u001b[38;5;124m_secs\u001b[39m\u001b[38;5;124m'\u001b[39m) \u001b[38;5;129;01mand\u001b[39;00m r\u001b[38;5;241m.\u001b[39mnrn_region:\n\u001b[0;32m   1319\u001b[0m                 \u001b[38;5;28;01mif\u001b[39;00m (r\u001b[38;5;241m.\u001b[39mnrn_region \u001b[38;5;241m==\u001b[39m \u001b[38;5;124m'\u001b[39m\u001b[38;5;124mi\u001b[39m\u001b[38;5;124m'\u001b[39m \u001b[38;5;129;01mand\u001b[39;00m \n\u001b[0;32m   1320\u001b[0m                     \u001b[38;5;28many\u001b[39m(spsecs_i\u001b[38;5;241m.\u001b[39mintersection(r\u001b[38;5;241m.\u001b[39m_secs))\n\u001b[0;32m   1321\u001b[0m                     \u001b[38;5;129;01mor\u001b[39;00m (r\u001b[38;5;241m.\u001b[39mnrn_region \u001b[38;5;241m==\u001b[39m \u001b[38;5;124m'\u001b[39m\u001b[38;5;124mo\u001b[39m\u001b[38;5;124m'\u001b[39m \u001b[38;5;129;01mand\u001b[39;00m \n\u001b[0;32m   1322\u001b[0m                         \u001b[38;5;28many\u001b[39m(spsecs_o\u001b[38;5;241m.\u001b[39mintersection(r\u001b[38;5;241m.\u001b[39m_secs)))):\n\u001b[1;32m-> 1323\u001b[0m                     \u001b[38;5;28;01mraise\u001b[39;00m RxDException(\u001b[38;5;124m'\u001b[39m\u001b[38;5;124mSpecies \u001b[39m\u001b[38;5;124m\"\u001b[39m\u001b[38;5;132;01m%s\u001b[39;00m\u001b[38;5;124m\"\u001b[39m\u001b[38;5;124m previously defined on a region \u001b[39m\u001b[38;5;132;01m%r\u001b[39;00m\u001b[38;5;124m that overlaps with regions: \u001b[39m\u001b[38;5;132;01m%r\u001b[39;00m\u001b[38;5;124m'\u001b[39m \u001b[38;5;241m%\u001b[39m (name, r, \u001b[38;5;28mself\u001b[39m\u001b[38;5;241m.\u001b[39m_regions))\n\u001b[0;32m   1324\u001b[0m \u001b[38;5;28;01melse\u001b[39;00m:\n\u001b[0;32m   1325\u001b[0m     name \u001b[38;5;241m=\u001b[39m _species_count\n",
      "\u001b[1;31mRxDException\u001b[0m: Species \"na\" previously defined on a region Region(..., nrn_region='i', geometry=<neuron.rxd.geometry.RxDGeometry object at 0x000001E921C40EB0>, dx=0.25, name='cyt') that overlaps with regions: [Region(..., nrn_region='i', geometry=<neuron.rxd.geometry.RxDGeometry object at 0x000001E921C40EB0>, dx=0.25, name='cyt'), Region(..., nrn_region=None, geometry=<neuron.rxd.geometry.RxDGeometry object at 0x000001E921C40F40>, dx=0.25, name='cell_mem')]"
     ]
    }
   ],
   "source": [
    "# Where?\n",
    "# intracellular\n",
    "cyt = rxd.Region(h.allsec(), name='cyt', nrn_region='i')\n",
    "\n",
    "# membrane\n",
    "mem = rxd.Region(h.allsec(), name='cell_mem', geometry=rxd.membrane())\n",
    "\n",
    "# extracellular\n",
    "ecs = rxd.Extracellular(-100, -100, -100, 100, 100, 100, dx=33)\n",
    "\n",
    "# Who?  ions & gates\n",
    "\n",
    "# intracellular sodium & potassium\n",
    "na = rxd.Species([cyt, mem], name='na', d=1, charge=1, initial=10)\n",
    "k = rxd.Species([cyt, mem], name='k', d=1, charge=1, initial=54.4)\n",
    "\n",
    "# extracellular parameters provide a constant concentration for the Nernst potential and reactions.\n",
    "kecs = rxd.Parameter(ecs, name='k', charge=1, value=2.5)\n",
    "naecs = rxd.Parameter(ecs, name='na', charge=1, value=140)\n",
    "\n",
    "# an undistinguished charged ion for the leak current\n",
    "x = rxd.Species([cyt, mem, ecs], name='x', charge=1) \n",
    "\n",
    "# define the various species and parameters on the intracellular and extracellular regions\n",
    "ki, ko, nai, nao, xi, xo = k[cyt], kecs[ecs], na[cyt], naecs[ecs], x[cyt], x[ecs]\n",
    "\n",
    "# the gating states               \n",
    "ngate = rxd.State([cyt, mem], name='ngate', initial=0.24458654944007166)\n",
    "mgate = rxd.State([cyt, mem], name='mgate', initial=0.028905534475191907)\n",
    "hgate = rxd.State([cyt, mem], name='hgate', initial=0.7540796658225246)\n",
    "\n",
    "# parameter to limit rxd reaction to somaA\n",
    "paramA = rxd.Parameter([cyt, mem], name='paramA',\n",
    "                       value=lambda nd: 1 if nd.segment in somaA else 0)\n",
    "\n",
    "#What? gates and currents \n",
    "m_gate = rxd.Rate(mgate, (minf - mgate)/mtau)\n",
    "h_gate = rxd.Rate(hgate, (hinf - hgate)/htau)\n",
    "n_gate = rxd.Rate(ngate, (ninf - ngate)/ntau)\n",
    "\n",
    "# Nernst potentials\n",
    "ena = 1e3*h.R*(h.celsius + 273.15)*log(nao/nai)/h.FARADAY\n",
    "ek = 1e3*h.R*(h.celsius + 273.15)*log(ko/ki)/h.FARADAY\n",
    "\n",
    "gna = paramA*gnabar*mgate**3*hgate\n",
    "gk = paramA*gkbar*ngate**4\n",
    "\n",
    "na_current = rxd.MultiCompartmentReaction(nai, nao, gna*(v - ena),\n",
    "                                          mass_action=False, membrane=mem,\n",
    "                                          membrane_flux=True)\n",
    "k_current = rxd.MultiCompartmentReaction(ki, ko, gk*(v - ek),\n",
    "                                         mass_action=False, membrane=mem,\n",
    "                                         membrane_flux=True)\n",
    "leak_current = rxd.MultiCompartmentReaction(xi, xo, paramA*gl*(v - el),\n",
    "                                         mass_action=False, membrane=mem,\n",
    "                                         membrane_flux=True)"
   ]
  },
  {
   "cell_type": "code",
   "execution_count": null,
   "id": "4b48816e-acdb-41d7-bc45-bb71e378fe3b",
   "metadata": {},
   "outputs": [],
   "source": []
  }
 ],
 "metadata": {
  "kernelspec": {
   "display_name": "Python 3 (ipykernel)",
   "language": "python",
   "name": "python3"
  },
  "language_info": {
   "codemirror_mode": {
    "name": "ipython",
    "version": 3
   },
   "file_extension": ".py",
   "mimetype": "text/x-python",
   "name": "python",
   "nbconvert_exporter": "python",
   "pygments_lexer": "ipython3",
   "version": "3.8.10"
  }
 },
 "nbformat": 4,
 "nbformat_minor": 5
}
